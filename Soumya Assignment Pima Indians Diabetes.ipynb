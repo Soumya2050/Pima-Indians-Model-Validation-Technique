{
 "cells": [
  {
   "cell_type": "markdown",
   "metadata": {},
   "source": [
    "# Pima Indians Diabetes\n",
    "Pima Indians Diabetes Dataset is a binary (2-class) classification problem.\n",
    "We use logistic regresion model \n",
    "\n",
    "DESCRIPTION:\n",
    "Background of Problem Statement :\n",
    "Logistic Regression and mention if model is accepted or rejected\n",
    "\n"
   ]
  },
  {
   "cell_type": "markdown",
   "metadata": {},
   "source": [
    "Domain: Healthcare"
   ]
  },
  {
   "cell_type": "code",
   "execution_count": 1,
   "metadata": {},
   "outputs": [],
   "source": [
    "#Import necessery libreary\n",
    "import numpy as np\n",
    "import pandas as pd"
   ]
  },
  {
   "cell_type": "code",
   "execution_count": 2,
   "metadata": {},
   "outputs": [
    {
     "data": {
      "text/html": [
       "<div>\n",
       "<style scoped>\n",
       "    .dataframe tbody tr th:only-of-type {\n",
       "        vertical-align: middle;\n",
       "    }\n",
       "\n",
       "    .dataframe tbody tr th {\n",
       "        vertical-align: top;\n",
       "    }\n",
       "\n",
       "    .dataframe thead th {\n",
       "        text-align: right;\n",
       "    }\n",
       "</style>\n",
       "<table border=\"1\" class=\"dataframe\">\n",
       "  <thead>\n",
       "    <tr style=\"text-align: right;\">\n",
       "      <th></th>\n",
       "      <th>Number of times pregnant</th>\n",
       "      <th>Plasma glucose concentration a 2 hours in an oral glucose tolerance test</th>\n",
       "      <th>Diastolic blood pressure (mm Hg)</th>\n",
       "      <th>Triceps skinfold thickness (mm)</th>\n",
       "      <th>2-Hour serum insulin (mu U/ml)</th>\n",
       "      <th>Body mass index (weight in kg/(height in m)^2)</th>\n",
       "      <th>Diabetes pedigree function</th>\n",
       "      <th>Age (years)</th>\n",
       "      <th>Class variable (0 or 1)</th>\n",
       "    </tr>\n",
       "  </thead>\n",
       "  <tbody>\n",
       "    <tr>\n",
       "      <th>0</th>\n",
       "      <td>6.0</td>\n",
       "      <td>148.0</td>\n",
       "      <td>72.0</td>\n",
       "      <td>35.0</td>\n",
       "      <td>NaN</td>\n",
       "      <td>33.6</td>\n",
       "      <td>0.627</td>\n",
       "      <td>50</td>\n",
       "      <td>1.0</td>\n",
       "    </tr>\n",
       "    <tr>\n",
       "      <th>1</th>\n",
       "      <td>1.0</td>\n",
       "      <td>85.0</td>\n",
       "      <td>66.0</td>\n",
       "      <td>29.0</td>\n",
       "      <td>NaN</td>\n",
       "      <td>26.6</td>\n",
       "      <td>0.351</td>\n",
       "      <td>31</td>\n",
       "      <td>NaN</td>\n",
       "    </tr>\n",
       "    <tr>\n",
       "      <th>2</th>\n",
       "      <td>8.0</td>\n",
       "      <td>183.0</td>\n",
       "      <td>64.0</td>\n",
       "      <td>NaN</td>\n",
       "      <td>NaN</td>\n",
       "      <td>23.3</td>\n",
       "      <td>0.672</td>\n",
       "      <td>32</td>\n",
       "      <td>1.0</td>\n",
       "    </tr>\n",
       "    <tr>\n",
       "      <th>3</th>\n",
       "      <td>1.0</td>\n",
       "      <td>89.0</td>\n",
       "      <td>66.0</td>\n",
       "      <td>23.0</td>\n",
       "      <td>94.0</td>\n",
       "      <td>28.1</td>\n",
       "      <td>0.167</td>\n",
       "      <td>21</td>\n",
       "      <td>NaN</td>\n",
       "    </tr>\n",
       "    <tr>\n",
       "      <th>4</th>\n",
       "      <td>NaN</td>\n",
       "      <td>137.0</td>\n",
       "      <td>40.0</td>\n",
       "      <td>35.0</td>\n",
       "      <td>168.0</td>\n",
       "      <td>43.1</td>\n",
       "      <td>2.288</td>\n",
       "      <td>33</td>\n",
       "      <td>1.0</td>\n",
       "    </tr>\n",
       "  </tbody>\n",
       "</table>\n",
       "</div>"
      ],
      "text/plain": [
       "   Number of times pregnant  \\\n",
       "0                       6.0   \n",
       "1                       1.0   \n",
       "2                       8.0   \n",
       "3                       1.0   \n",
       "4                       NaN   \n",
       "\n",
       "   Plasma glucose concentration a 2 hours in an oral glucose tolerance test  \\\n",
       "0                                              148.0                          \n",
       "1                                               85.0                          \n",
       "2                                              183.0                          \n",
       "3                                               89.0                          \n",
       "4                                              137.0                          \n",
       "\n",
       "   Diastolic blood pressure (mm Hg)  Triceps skinfold thickness (mm)  \\\n",
       "0                              72.0                             35.0   \n",
       "1                              66.0                             29.0   \n",
       "2                              64.0                              NaN   \n",
       "3                              66.0                             23.0   \n",
       "4                              40.0                             35.0   \n",
       "\n",
       "   2-Hour serum insulin (mu U/ml)  \\\n",
       "0                             NaN   \n",
       "1                             NaN   \n",
       "2                             NaN   \n",
       "3                            94.0   \n",
       "4                           168.0   \n",
       "\n",
       "   Body mass index (weight in kg/(height in m)^2)  Diabetes pedigree function  \\\n",
       "0                                            33.6                       0.627   \n",
       "1                                            26.6                       0.351   \n",
       "2                                            23.3                       0.672   \n",
       "3                                            28.1                       0.167   \n",
       "4                                            43.1                       2.288   \n",
       "\n",
       "   Age (years)  Class variable (0 or 1)  \n",
       "0           50                      1.0  \n",
       "1           31                      NaN  \n",
       "2           32                      1.0  \n",
       "3           21                      NaN  \n",
       "4           33                      1.0  "
      ]
     },
     "execution_count": 2,
     "metadata": {},
     "output_type": "execute_result"
    }
   ],
   "source": [
    "# load dataset pima-indians-diabetes.csv into dataframe object data using pandas method read_csv\n",
    "\n",
    "Heading = [\"Number of times pregnant\",\"Plasma glucose concentration a 2 hours in an oral glucose tolerance test\",\n",
    "           \"Diastolic blood pressure (mm Hg)\",\"Triceps skinfold thickness (mm)\",\"2-Hour serum insulin (mu U/ml)\",\n",
    "           \"Body mass index (weight in kg/(height in m)^2)\",\n",
    "           \"Diabetes pedigree function\",\"Age (years)\",\"Class variable (0 or 1)\"]\n",
    "data = pd.read_csv('pima-indians-diabetes.csv',names = Heading,na_values = {0})\n",
    "\n",
    "#Check the head of the data to see basic information about the dataframe information\n",
    "\n",
    "data.head()"
   ]
  },
  {
   "cell_type": "code",
   "execution_count": 3,
   "metadata": {},
   "outputs": [
    {
     "data": {
      "text/plain": [
       "Index(['Number of times pregnant',\n",
       "       'Plasma glucose concentration a 2 hours in an oral glucose tolerance test',\n",
       "       'Diastolic blood pressure (mm Hg)', 'Triceps skinfold thickness (mm)',\n",
       "       '2-Hour serum insulin (mu U/ml)',\n",
       "       'Body mass index (weight in kg/(height in m)^2)',\n",
       "       'Diabetes pedigree function', 'Age (years)', 'Class variable (0 or 1)'],\n",
       "      dtype='object')"
      ]
     },
     "execution_count": 3,
     "metadata": {},
     "output_type": "execute_result"
    }
   ],
   "source": [
    "# Check the column names\n",
    "data.columns"
   ]
  },
  {
   "cell_type": "markdown",
   "metadata": {},
   "source": [
    "# Data Preprocessing:\n",
    "The goal of this stage is to prepare the data such that you can derive a model out of it \n",
    "(Inferential Statistics)\n",
    "The goal of Data Preprocessing is to make the data compatible for ML, DL, (Inferential Stats)\n",
    "Reason:\n",
    "1. Every ML Algo expects your data to be complete.\n",
    "2. Every ML algo expects your data to be NUMERIC."
   ]
  },
  {
   "cell_type": "markdown",
   "metadata": {},
   "source": [
    "# Preprocessing Task:\n",
    "1. Checking and Handling Missing data\n",
    "2. Checking and Handling Categorical data\n",
    "3. Checking and Handling Ordinal Data\n",
    "4. Perform Data Standardization of all Columns"
   ]
  },
  {
   "cell_type": "code",
   "execution_count": 4,
   "metadata": {},
   "outputs": [
    {
     "name": "stdout",
     "output_type": "stream",
     "text": [
      "<class 'pandas.core.frame.DataFrame'>\n",
      "RangeIndex: 768 entries, 0 to 767\n",
      "Data columns (total 9 columns):\n",
      "Number of times pregnant                                                    657 non-null float64\n",
      "Plasma glucose concentration a 2 hours in an oral glucose tolerance test    763 non-null float64\n",
      "Diastolic blood pressure (mm Hg)                                            733 non-null float64\n",
      "Triceps skinfold thickness (mm)                                             541 non-null float64\n",
      "2-Hour serum insulin (mu U/ml)                                              394 non-null float64\n",
      "Body mass index (weight in kg/(height in m)^2)                              757 non-null float64\n",
      "Diabetes pedigree function                                                  768 non-null float64\n",
      "Age (years)                                                                 768 non-null int64\n",
      "Class variable (0 or 1)                                                     268 non-null float64\n",
      "dtypes: float64(8), int64(1)\n",
      "memory usage: 54.1 KB\n"
     ]
    }
   ],
   "source": [
    "#1.Identify missing values\n",
    "data.info()"
   ]
  },
  {
   "cell_type": "code",
   "execution_count": 7,
   "metadata": {},
   "outputs": [],
   "source": [
    "#Supress warnings\n",
    "import warnings\n",
    "warnings.filterwarnings('ignore')"
   ]
  },
  {
   "cell_type": "code",
   "execution_count": 8,
   "metadata": {},
   "outputs": [
    {
     "name": "stdout",
     "output_type": "stream",
     "text": [
      "<class 'pandas.core.frame.DataFrame'>\n",
      "RangeIndex: 768 entries, 0 to 767\n",
      "Data columns (total 9 columns):\n",
      "Number of times pregnant                                                    768 non-null float64\n",
      "Plasma glucose concentration a 2 hours in an oral glucose tolerance test    763 non-null float64\n",
      "Diastolic blood pressure (mm Hg)                                            733 non-null float64\n",
      "Triceps skinfold thickness (mm)                                             541 non-null float64\n",
      "2-Hour serum insulin (mu U/ml)                                              394 non-null float64\n",
      "Body mass index (weight in kg/(height in m)^2)                              757 non-null float64\n",
      "Diabetes pedigree function                                                  768 non-null float64\n",
      "Age (years)                                                                 768 non-null int64\n",
      "Class variable (0 or 1)                                                     268 non-null float64\n",
      "dtypes: float64(8), int64(1)\n",
      "memory usage: 54.1 KB\n"
     ]
    }
   ],
   "source": [
    "#Ipute mean for Number of times pregnant as its numeric\n",
    "data[\"Number of times pregnant\"].fillna(data[\"Number of times pregnant\"].mean(), inplace=True)\n",
    "data.info()"
   ]
  },
  {
   "cell_type": "code",
   "execution_count": 9,
   "metadata": {},
   "outputs": [
    {
     "name": "stdout",
     "output_type": "stream",
     "text": [
      "<class 'pandas.core.frame.DataFrame'>\n",
      "RangeIndex: 768 entries, 0 to 767\n",
      "Data columns (total 9 columns):\n",
      "Number of times pregnant                                                    768 non-null float64\n",
      "Plasma glucose concentration a 2 hours in an oral glucose tolerance test    768 non-null float64\n",
      "Diastolic blood pressure (mm Hg)                                            733 non-null float64\n",
      "Triceps skinfold thickness (mm)                                             541 non-null float64\n",
      "2-Hour serum insulin (mu U/ml)                                              394 non-null float64\n",
      "Body mass index (weight in kg/(height in m)^2)                              757 non-null float64\n",
      "Diabetes pedigree function                                                  768 non-null float64\n",
      "Age (years)                                                                 768 non-null int64\n",
      "Class variable (0 or 1)                                                     268 non-null float64\n",
      "dtypes: float64(8), int64(1)\n",
      "memory usage: 54.1 KB\n"
     ]
    }
   ],
   "source": [
    "#Ipute mean for Plasma glucose concentration a 2 hours in an oral glucose tolerance test as its numeric\n",
    "data[\"Plasma glucose concentration a 2 hours in an oral glucose tolerance test\"].fillna(data[\"Plasma glucose concentration a 2 hours in an oral glucose tolerance test\"].mean(), inplace=True)\n",
    "data.info()"
   ]
  },
  {
   "cell_type": "code",
   "execution_count": 10,
   "metadata": {},
   "outputs": [
    {
     "name": "stdout",
     "output_type": "stream",
     "text": [
      "<class 'pandas.core.frame.DataFrame'>\n",
      "RangeIndex: 768 entries, 0 to 767\n",
      "Data columns (total 9 columns):\n",
      "Number of times pregnant                                                    768 non-null float64\n",
      "Plasma glucose concentration a 2 hours in an oral glucose tolerance test    768 non-null float64\n",
      "Diastolic blood pressure (mm Hg)                                            768 non-null float64\n",
      "Triceps skinfold thickness (mm)                                             541 non-null float64\n",
      "2-Hour serum insulin (mu U/ml)                                              394 non-null float64\n",
      "Body mass index (weight in kg/(height in m)^2)                              757 non-null float64\n",
      "Diabetes pedigree function                                                  768 non-null float64\n",
      "Age (years)                                                                 768 non-null int64\n",
      "Class variable (0 or 1)                                                     268 non-null float64\n",
      "dtypes: float64(8), int64(1)\n",
      "memory usage: 54.1 KB\n"
     ]
    }
   ],
   "source": [
    "#Ipute mean for Plasma glucose concentration a 2 hours in an oral glucose tolerance test as its numeric\n",
    "data[\"Diastolic blood pressure (mm Hg)\"].fillna(data[\"Diastolic blood pressure (mm Hg)\"].mean(), inplace=True)\n",
    "data.info()"
   ]
  },
  {
   "cell_type": "code",
   "execution_count": 11,
   "metadata": {},
   "outputs": [
    {
     "name": "stdout",
     "output_type": "stream",
     "text": [
      "<class 'pandas.core.frame.DataFrame'>\n",
      "RangeIndex: 768 entries, 0 to 767\n",
      "Data columns (total 9 columns):\n",
      "Number of times pregnant                                                    768 non-null float64\n",
      "Plasma glucose concentration a 2 hours in an oral glucose tolerance test    768 non-null float64\n",
      "Diastolic blood pressure (mm Hg)                                            768 non-null float64\n",
      "Triceps skinfold thickness (mm)                                             768 non-null float64\n",
      "2-Hour serum insulin (mu U/ml)                                              394 non-null float64\n",
      "Body mass index (weight in kg/(height in m)^2)                              757 non-null float64\n",
      "Diabetes pedigree function                                                  768 non-null float64\n",
      "Age (years)                                                                 768 non-null int64\n",
      "Class variable (0 or 1)                                                     268 non-null float64\n",
      "dtypes: float64(8), int64(1)\n",
      "memory usage: 54.1 KB\n"
     ]
    }
   ],
   "source": [
    "#Ipute mean for Triceps skinfold thickness (mm) as its numeric\n",
    "data[\"Triceps skinfold thickness (mm)\"].fillna(data[\"Triceps skinfold thickness (mm)\"].mean(), inplace=True)\n",
    "data.info()"
   ]
  },
  {
   "cell_type": "code",
   "execution_count": 12,
   "metadata": {},
   "outputs": [
    {
     "name": "stdout",
     "output_type": "stream",
     "text": [
      "<class 'pandas.core.frame.DataFrame'>\n",
      "RangeIndex: 768 entries, 0 to 767\n",
      "Data columns (total 9 columns):\n",
      "Number of times pregnant                                                    768 non-null float64\n",
      "Plasma glucose concentration a 2 hours in an oral glucose tolerance test    768 non-null float64\n",
      "Diastolic blood pressure (mm Hg)                                            768 non-null float64\n",
      "Triceps skinfold thickness (mm)                                             768 non-null float64\n",
      "2-Hour serum insulin (mu U/ml)                                              768 non-null float64\n",
      "Body mass index (weight in kg/(height in m)^2)                              757 non-null float64\n",
      "Diabetes pedigree function                                                  768 non-null float64\n",
      "Age (years)                                                                 768 non-null int64\n",
      "Class variable (0 or 1)                                                     268 non-null float64\n",
      "dtypes: float64(8), int64(1)\n",
      "memory usage: 54.1 KB\n"
     ]
    }
   ],
   "source": [
    "#Ipute mean for 2-Hour serum insulin (mu U/ml) as its numeric\n",
    "data[\"2-Hour serum insulin (mu U/ml)\"].fillna(data[\"2-Hour serum insulin (mu U/ml)\"].mean(), inplace=True)\n",
    "data.info()"
   ]
  },
  {
   "cell_type": "code",
   "execution_count": 13,
   "metadata": {},
   "outputs": [
    {
     "name": "stdout",
     "output_type": "stream",
     "text": [
      "<class 'pandas.core.frame.DataFrame'>\n",
      "RangeIndex: 768 entries, 0 to 767\n",
      "Data columns (total 9 columns):\n",
      "Number of times pregnant                                                    768 non-null float64\n",
      "Plasma glucose concentration a 2 hours in an oral glucose tolerance test    768 non-null float64\n",
      "Diastolic blood pressure (mm Hg)                                            768 non-null float64\n",
      "Triceps skinfold thickness (mm)                                             768 non-null float64\n",
      "2-Hour serum insulin (mu U/ml)                                              768 non-null float64\n",
      "Body mass index (weight in kg/(height in m)^2)                              768 non-null float64\n",
      "Diabetes pedigree function                                                  768 non-null float64\n",
      "Age (years)                                                                 768 non-null int64\n",
      "Class variable (0 or 1)                                                     268 non-null float64\n",
      "dtypes: float64(8), int64(1)\n",
      "memory usage: 54.1 KB\n"
     ]
    }
   ],
   "source": [
    "#Ipute mean for 2-Hour serum insulin (mu U/ml) as its numeric\n",
    "data[\"Body mass index (weight in kg/(height in m)^2)\"].fillna(data[\"Body mass index (weight in kg/(height in m)^2)\"].mean(), inplace=True)\n",
    "data.info()"
   ]
  },
  {
   "cell_type": "code",
   "execution_count": 14,
   "metadata": {},
   "outputs": [
    {
     "name": "stdout",
     "output_type": "stream",
     "text": [
      "<class 'pandas.core.frame.DataFrame'>\n",
      "RangeIndex: 768 entries, 0 to 767\n",
      "Data columns (total 9 columns):\n",
      "Number of times pregnant                                                    768 non-null float64\n",
      "Plasma glucose concentration a 2 hours in an oral glucose tolerance test    768 non-null float64\n",
      "Diastolic blood pressure (mm Hg)                                            768 non-null float64\n",
      "Triceps skinfold thickness (mm)                                             768 non-null float64\n",
      "2-Hour serum insulin (mu U/ml)                                              768 non-null float64\n",
      "Body mass index (weight in kg/(height in m)^2)                              768 non-null float64\n",
      "Diabetes pedigree function                                                  768 non-null float64\n",
      "Age (years)                                                                 768 non-null int64\n",
      "Class variable (0 or 1)                                                     768 non-null float64\n",
      "dtypes: float64(8), int64(1)\n",
      "memory usage: 54.1 KB\n"
     ]
    }
   ],
   "source": [
    "#Ipute 0 for Class variable (0 or 1) as its numeric\n",
    "data[\"Class variable (0 or 1)\"].fillna(0, inplace=True)\n",
    "data.info()"
   ]
  },
  {
   "cell_type": "code",
   "execution_count": 15,
   "metadata": {},
   "outputs": [
    {
     "data": {
      "text/html": [
       "<div>\n",
       "<style scoped>\n",
       "    .dataframe tbody tr th:only-of-type {\n",
       "        vertical-align: middle;\n",
       "    }\n",
       "\n",
       "    .dataframe tbody tr th {\n",
       "        vertical-align: top;\n",
       "    }\n",
       "\n",
       "    .dataframe thead th {\n",
       "        text-align: right;\n",
       "    }\n",
       "</style>\n",
       "<table border=\"1\" class=\"dataframe\">\n",
       "  <thead>\n",
       "    <tr style=\"text-align: right;\">\n",
       "      <th></th>\n",
       "      <th>Number of times pregnant</th>\n",
       "      <th>Plasma glucose concentration a 2 hours in an oral glucose tolerance test</th>\n",
       "      <th>Diastolic blood pressure (mm Hg)</th>\n",
       "      <th>Triceps skinfold thickness (mm)</th>\n",
       "      <th>2-Hour serum insulin (mu U/ml)</th>\n",
       "      <th>Body mass index (weight in kg/(height in m)^2)</th>\n",
       "      <th>Diabetes pedigree function</th>\n",
       "      <th>Age (years)</th>\n",
       "      <th>Class variable (0 or 1)</th>\n",
       "    </tr>\n",
       "  </thead>\n",
       "  <tbody>\n",
       "    <tr>\n",
       "      <th>count</th>\n",
       "      <td>768.000000</td>\n",
       "      <td>768.000000</td>\n",
       "      <td>768.000000</td>\n",
       "      <td>768.000000</td>\n",
       "      <td>768.000000</td>\n",
       "      <td>768.000000</td>\n",
       "      <td>768.000000</td>\n",
       "      <td>768.000000</td>\n",
       "      <td>768.000000</td>\n",
       "    </tr>\n",
       "    <tr>\n",
       "      <th>mean</th>\n",
       "      <td>4.494673</td>\n",
       "      <td>121.686763</td>\n",
       "      <td>72.405184</td>\n",
       "      <td>29.153420</td>\n",
       "      <td>155.548223</td>\n",
       "      <td>32.457464</td>\n",
       "      <td>0.471876</td>\n",
       "      <td>33.240885</td>\n",
       "      <td>0.348958</td>\n",
       "    </tr>\n",
       "    <tr>\n",
       "      <th>std</th>\n",
       "      <td>2.975395</td>\n",
       "      <td>30.435949</td>\n",
       "      <td>12.096346</td>\n",
       "      <td>8.790942</td>\n",
       "      <td>85.021108</td>\n",
       "      <td>6.875151</td>\n",
       "      <td>0.331329</td>\n",
       "      <td>11.760232</td>\n",
       "      <td>0.476951</td>\n",
       "    </tr>\n",
       "    <tr>\n",
       "      <th>min</th>\n",
       "      <td>1.000000</td>\n",
       "      <td>44.000000</td>\n",
       "      <td>24.000000</td>\n",
       "      <td>7.000000</td>\n",
       "      <td>14.000000</td>\n",
       "      <td>18.200000</td>\n",
       "      <td>0.078000</td>\n",
       "      <td>21.000000</td>\n",
       "      <td>0.000000</td>\n",
       "    </tr>\n",
       "    <tr>\n",
       "      <th>25%</th>\n",
       "      <td>2.000000</td>\n",
       "      <td>99.750000</td>\n",
       "      <td>64.000000</td>\n",
       "      <td>25.000000</td>\n",
       "      <td>121.500000</td>\n",
       "      <td>27.500000</td>\n",
       "      <td>0.243750</td>\n",
       "      <td>24.000000</td>\n",
       "      <td>0.000000</td>\n",
       "    </tr>\n",
       "    <tr>\n",
       "      <th>50%</th>\n",
       "      <td>4.494673</td>\n",
       "      <td>117.000000</td>\n",
       "      <td>72.202592</td>\n",
       "      <td>29.153420</td>\n",
       "      <td>155.548223</td>\n",
       "      <td>32.400000</td>\n",
       "      <td>0.372500</td>\n",
       "      <td>29.000000</td>\n",
       "      <td>0.000000</td>\n",
       "    </tr>\n",
       "    <tr>\n",
       "      <th>75%</th>\n",
       "      <td>6.000000</td>\n",
       "      <td>140.250000</td>\n",
       "      <td>80.000000</td>\n",
       "      <td>32.000000</td>\n",
       "      <td>155.548223</td>\n",
       "      <td>36.600000</td>\n",
       "      <td>0.626250</td>\n",
       "      <td>41.000000</td>\n",
       "      <td>1.000000</td>\n",
       "    </tr>\n",
       "    <tr>\n",
       "      <th>max</th>\n",
       "      <td>17.000000</td>\n",
       "      <td>199.000000</td>\n",
       "      <td>122.000000</td>\n",
       "      <td>99.000000</td>\n",
       "      <td>846.000000</td>\n",
       "      <td>67.100000</td>\n",
       "      <td>2.420000</td>\n",
       "      <td>81.000000</td>\n",
       "      <td>1.000000</td>\n",
       "    </tr>\n",
       "  </tbody>\n",
       "</table>\n",
       "</div>"
      ],
      "text/plain": [
       "       Number of times pregnant  \\\n",
       "count                768.000000   \n",
       "mean                   4.494673   \n",
       "std                    2.975395   \n",
       "min                    1.000000   \n",
       "25%                    2.000000   \n",
       "50%                    4.494673   \n",
       "75%                    6.000000   \n",
       "max                   17.000000   \n",
       "\n",
       "       Plasma glucose concentration a 2 hours in an oral glucose tolerance test  \\\n",
       "count                                         768.000000                          \n",
       "mean                                          121.686763                          \n",
       "std                                            30.435949                          \n",
       "min                                            44.000000                          \n",
       "25%                                            99.750000                          \n",
       "50%                                           117.000000                          \n",
       "75%                                           140.250000                          \n",
       "max                                           199.000000                          \n",
       "\n",
       "       Diastolic blood pressure (mm Hg)  Triceps skinfold thickness (mm)  \\\n",
       "count                        768.000000                       768.000000   \n",
       "mean                          72.405184                        29.153420   \n",
       "std                           12.096346                         8.790942   \n",
       "min                           24.000000                         7.000000   \n",
       "25%                           64.000000                        25.000000   \n",
       "50%                           72.202592                        29.153420   \n",
       "75%                           80.000000                        32.000000   \n",
       "max                          122.000000                        99.000000   \n",
       "\n",
       "       2-Hour serum insulin (mu U/ml)  \\\n",
       "count                      768.000000   \n",
       "mean                       155.548223   \n",
       "std                         85.021108   \n",
       "min                         14.000000   \n",
       "25%                        121.500000   \n",
       "50%                        155.548223   \n",
       "75%                        155.548223   \n",
       "max                        846.000000   \n",
       "\n",
       "       Body mass index (weight in kg/(height in m)^2)  \\\n",
       "count                                      768.000000   \n",
       "mean                                        32.457464   \n",
       "std                                          6.875151   \n",
       "min                                         18.200000   \n",
       "25%                                         27.500000   \n",
       "50%                                         32.400000   \n",
       "75%                                         36.600000   \n",
       "max                                         67.100000   \n",
       "\n",
       "       Diabetes pedigree function  Age (years)  Class variable (0 or 1)  \n",
       "count                  768.000000   768.000000               768.000000  \n",
       "mean                     0.471876    33.240885                 0.348958  \n",
       "std                      0.331329    11.760232                 0.476951  \n",
       "min                      0.078000    21.000000                 0.000000  \n",
       "25%                      0.243750    24.000000                 0.000000  \n",
       "50%                      0.372500    29.000000                 0.000000  \n",
       "75%                      0.626250    41.000000                 1.000000  \n",
       "max                      2.420000    81.000000                 1.000000  "
      ]
     },
     "execution_count": 15,
     "metadata": {},
     "output_type": "execute_result"
    }
   ],
   "source": [
    "#Check for outliers\n",
    "data.describe()\n",
    "\n",
    "#Inference: No significant deviation between 50% and mean"
   ]
  },
  {
   "cell_type": "code",
   "execution_count": 16,
   "metadata": {},
   "outputs": [],
   "source": [
    "features = data.iloc[:,[0,1,2,3,4,5,6,7]].values\n",
    "label = data.iloc[:,-1].values"
   ]
  },
  {
   "cell_type": "code",
   "execution_count": 17,
   "metadata": {},
   "outputs": [
    {
     "data": {
      "text/plain": [
       "(768, 8)"
      ]
     },
     "execution_count": 17,
     "metadata": {},
     "output_type": "execute_result"
    }
   ],
   "source": [
    "features.shape"
   ]
  },
  {
   "cell_type": "code",
   "execution_count": 18,
   "metadata": {},
   "outputs": [
    {
     "data": {
      "text/plain": [
       "(768,)"
      ]
     },
     "execution_count": 18,
     "metadata": {},
     "output_type": "execute_result"
    }
   ],
   "source": [
    "label.shape"
   ]
  },
  {
   "cell_type": "code",
   "execution_count": 19,
   "metadata": {},
   "outputs": [],
   "source": [
    "# Step2: Decide the SL \n",
    "# SL - 0.65"
   ]
  },
  {
   "cell_type": "code",
   "execution_count": 20,
   "metadata": {},
   "outputs": [
    {
     "name": "stdout",
     "output_type": "stream",
     "text": [
      "Test 0.7987012987012987 Train0.7687296416938111 RandomState4\n",
      "Test 0.7792207792207793 Train0.762214983713355 RandomState5\n",
      "Test 0.7727272727272727 Train0.7719869706840391 RandomState6\n",
      "Test 0.8246753246753247 Train0.7671009771986971 RandomState12\n",
      "Test 0.7792207792207793 Train0.7785016286644951 RandomState13\n",
      "Test 0.8246753246753247 Train0.7703583061889251 RandomState16\n",
      "Test 0.7987012987012987 Train0.7703583061889251 RandomState23\n",
      "Test 0.8246753246753247 Train0.7703583061889251 RandomState25\n",
      "Test 0.8051948051948052 Train0.7768729641693811 RandomState26\n",
      "Test 0.7792207792207793 Train0.7703583061889251 RandomState28\n",
      "Test 0.8051948051948052 Train0.7736156351791531 RandomState30\n",
      "Test 0.7857142857142857 Train0.7801302931596091 RandomState32\n",
      "Test 0.7922077922077922 Train0.762214983713355 RandomState34\n",
      "Test 0.7857142857142857 Train0.7752442996742671 RandomState38\n",
      "Test 0.7792207792207793 Train0.7785016286644951 RandomState40\n",
      "Test 0.7792207792207793 Train0.7768729641693811 RandomState42\n",
      "Test 0.8116883116883117 Train0.7719869706840391 RandomState44\n",
      "Test 0.7922077922077922 Train0.7768729641693811 RandomState48\n",
      "Test 0.7857142857142857 Train0.7768729641693811 RandomState49\n"
     ]
    }
   ],
   "source": [
    "#Import the logistic Regression \n",
    "#Check the best random_state by using for loop method\n",
    "\n",
    "from sklearn.linear_model import LogisticRegression\n",
    "from sklearn.model_selection import train_test_split\n",
    "\n",
    "for i in range(1,51):\n",
    "    X_train,X_test,y_train,y_test = train_test_split(features,\n",
    "                                                label,\n",
    "                                                test_size=0.2,\n",
    "                                                random_state=i)\n",
    "    model = LogisticRegression()\n",
    "    model.fit(X_train,y_train)\n",
    "    \n",
    "    train_s = model.score(X_train,y_train)\n",
    "    test_s = model.score(X_test,y_test)\n",
    "    \n",
    "    if test_s > train_s:\n",
    "        print(\"Test {} Train{} RandomState{}\".format(test_s,train_s,i))\n",
    "    "
   ]
  },
  {
   "cell_type": "code",
   "execution_count": 22,
   "metadata": {},
   "outputs": [],
   "source": [
    "#Train Test Split\n",
    "from sklearn.model_selection import train_test_split\n",
    "X_train,X_test,y_train,y_test = train_test_split(features,\n",
    "                                                label,\n",
    "                                                test_size=0.2,\n",
    "                                                random_state=12)"
   ]
  },
  {
   "cell_type": "code",
   "execution_count": 23,
   "metadata": {},
   "outputs": [
    {
     "data": {
      "text/plain": [
       "LogisticRegression(C=1.0, class_weight=None, dual=False, fit_intercept=True,\n",
       "                   intercept_scaling=1, l1_ratio=None, max_iter=100,\n",
       "                   multi_class='auto', n_jobs=None, penalty='l2',\n",
       "                   random_state=None, solver='lbfgs', tol=0.0001, verbose=0,\n",
       "                   warm_start=False)"
      ]
     },
     "execution_count": 23,
     "metadata": {},
     "output_type": "execute_result"
    }
   ],
   "source": [
    "from sklearn.linear_model import LogisticRegression\n",
    "model = LogisticRegression()\n",
    "model.fit(X_train,y_train)"
   ]
  },
  {
   "cell_type": "code",
   "execution_count": 24,
   "metadata": {},
   "outputs": [
    {
     "data": {
      "text/plain": [
       "array([[443,  57],\n",
       "       [113, 155]], dtype=int64)"
      ]
     },
     "execution_count": 24,
     "metadata": {},
     "output_type": "execute_result"
    }
   ],
   "source": [
    "# Check the confusion Matrix\n",
    "from sklearn.metrics import confusion_matrix\n",
    "confusion_matrix(label, model.predict(features))"
   ]
  },
  {
   "cell_type": "code",
   "execution_count": 25,
   "metadata": {},
   "outputs": [
    {
     "name": "stdout",
     "output_type": "stream",
     "text": [
      "              precision    recall  f1-score   support\n",
      "\n",
      "         0.0       0.80      0.89      0.84       500\n",
      "         1.0       0.73      0.58      0.65       268\n",
      "\n",
      "    accuracy                           0.78       768\n",
      "   macro avg       0.76      0.73      0.74       768\n",
      "weighted avg       0.77      0.78      0.77       768\n",
      "\n"
     ]
    }
   ],
   "source": [
    "#Lets Check the model by validation Score\n",
    "from sklearn.metrics import classification_report\n",
    "print(classification_report(label, model.predict(features)))"
   ]
  },
  {
   "cell_type": "code",
   "execution_count": 26,
   "metadata": {},
   "outputs": [],
   "source": [
    "# Lets Compute for Diabetic detected non diabetic"
   ]
  },
  {
   "cell_type": "code",
   "execution_count": 31,
   "metadata": {},
   "outputs": [],
   "source": [
    "# So we have to check precision of 1 and recall of 0 \n",
    "P1,R0 = 0.73,0.89"
   ]
  },
  {
   "cell_type": "code",
   "execution_count": 32,
   "metadata": {},
   "outputs": [],
   "source": [
    "# Calculate the average\n",
    "Average = (P1+R0)/2"
   ]
  },
  {
   "cell_type": "code",
   "execution_count": 33,
   "metadata": {},
   "outputs": [],
   "source": [
    "# Our Signification level is 65\n",
    "CL = 0.65"
   ]
  },
  {
   "cell_type": "code",
   "execution_count": 34,
   "metadata": {},
   "outputs": [
    {
     "name": "stdout",
     "output_type": "stream",
     "text": [
      "Accept\n"
     ]
    }
   ],
   "source": [
    "# Lets Check the model is accept or reject\n",
    "if (Average > CL):\n",
    "    print(\"Accept\")\n",
    "else:\n",
    "    print(\"Reject\")"
   ]
  },
  {
   "cell_type": "code",
   "execution_count": null,
   "metadata": {},
   "outputs": [],
   "source": []
  }
 ],
 "metadata": {
  "kernelspec": {
   "display_name": "Python 3",
   "language": "python",
   "name": "python3"
  },
  "language_info": {
   "codemirror_mode": {
    "name": "ipython",
    "version": 3
   },
   "file_extension": ".py",
   "mimetype": "text/x-python",
   "name": "python",
   "nbconvert_exporter": "python",
   "pygments_lexer": "ipython3",
   "version": "3.7.3"
  }
 },
 "nbformat": 4,
 "nbformat_minor": 2
}
